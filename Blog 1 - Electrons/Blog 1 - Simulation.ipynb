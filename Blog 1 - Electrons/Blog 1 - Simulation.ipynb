{
 "cells": [
  {
   "cell_type": "markdown",
   "metadata": {},
   "source": [
    "# Blog 1 Auxiliary Information\n",
    "In this notebook, we will explore simulations about tRNAs yay"
   ]
  },
  {
   "cell_type": "markdown",
   "metadata": {},
   "source": [
    "Outline/Assumptions/Random Thoughts:\n",
    "* Assume well-mixed environment\n",
    "* Within a cell\n",
    "* Modelling\n",
    "    * How many amino acids available\n",
    "    * How many amino acids occupied\n",
    "    * Rate of making new amino acids and spontaneous combustion\n",
    "    * How many TRNA\n",
    "    * Rate of diffusion\n",
    "    * Rate constants of diffusion-limited binding\n",
    "        * Dependent on cell size!\n",
    "    * Degradation and production of tRNAs\n",
    "    "
   ]
  },
  {
   "cell_type": "code",
   "execution_count": null,
   "metadata": {},
   "outputs": [],
   "source": []
  }
 ],
 "metadata": {
  "kernelspec": {
   "display_name": "Python 3",
   "language": "python",
   "name": "python3"
  },
  "language_info": {
   "codemirror_mode": {
    "name": "ipython",
    "version": 3
   },
   "file_extension": ".py",
   "mimetype": "text/x-python",
   "name": "python",
   "nbconvert_exporter": "python",
   "pygments_lexer": "ipython3",
   "version": "3.7.7"
  }
 },
 "nbformat": 4,
 "nbformat_minor": 4
}
